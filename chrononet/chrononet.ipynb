{
  "cells": [
    {
      "cell_type": "code",
      "execution_count": 3,
      "metadata": {
        "id": "HW2VjCJNnAtd"
      },
      "outputs": [],
      "source": [
        "import torch\n",
        "import torch.nn as nn"
      ]
    },
    {
      "cell_type": "code",
      "execution_count": 2,
      "metadata": {
        "colab": {
          "base_uri": "https://localhost:8080/"
        },
        "id": "0zZcFOtznVHV",
        "outputId": "a4c56850-813d-40c8-a6ab-99cb362b6998"
      },
      "outputs": [
        {
          "name": "stdout",
          "output_type": "stream",
          "text": [
            "Collecting mne\n",
            "  Downloading mne-1.5.1-py3-none-any.whl (7.7 MB)\n",
            "\u001b[2K     \u001b[90m━━━━━━━━━━━━━━━━━━━━━━━━━━━━━━━━━━━━━━━━\u001b[0m \u001b[32m7.7/7.7 MB\u001b[0m \u001b[31m14.2 MB/s\u001b[0m eta \u001b[36m0:00:00\u001b[0m\n",
            "\u001b[?25hRequirement already satisfied: numpy>=1.15.4 in /usr/local/lib/python3.10/dist-packages (from mne) (1.23.5)\n",
            "Requirement already satisfied: scipy>=1.6.3 in /usr/local/lib/python3.10/dist-packages (from mne) (1.11.2)\n",
            "Requirement already satisfied: matplotlib>=3.4.0 in /usr/local/lib/python3.10/dist-packages (from mne) (3.7.1)\n",
            "Requirement already satisfied: tqdm in /usr/local/lib/python3.10/dist-packages (from mne) (4.66.1)\n",
            "Requirement already satisfied: pooch>=1.5 in /usr/local/lib/python3.10/dist-packages (from mne) (1.7.0)\n",
            "Requirement already satisfied: decorator in /usr/local/lib/python3.10/dist-packages (from mne) (4.4.2)\n",
            "Requirement already satisfied: packaging in /usr/local/lib/python3.10/dist-packages (from mne) (23.1)\n",
            "Requirement already satisfied: jinja2 in /usr/local/lib/python3.10/dist-packages (from mne) (3.1.2)\n",
            "Requirement already satisfied: contourpy>=1.0.1 in /usr/local/lib/python3.10/dist-packages (from matplotlib>=3.4.0->mne) (1.1.0)\n",
            "Requirement already satisfied: cycler>=0.10 in /usr/local/lib/python3.10/dist-packages (from matplotlib>=3.4.0->mne) (0.11.0)\n",
            "Requirement already satisfied: fonttools>=4.22.0 in /usr/local/lib/python3.10/dist-packages (from matplotlib>=3.4.0->mne) (4.42.1)\n",
            "Requirement already satisfied: kiwisolver>=1.0.1 in /usr/local/lib/python3.10/dist-packages (from matplotlib>=3.4.0->mne) (1.4.5)\n",
            "Requirement already satisfied: pillow>=6.2.0 in /usr/local/lib/python3.10/dist-packages (from matplotlib>=3.4.0->mne) (9.4.0)\n",
            "Requirement already satisfied: pyparsing>=2.3.1 in /usr/local/lib/python3.10/dist-packages (from matplotlib>=3.4.0->mne) (3.1.1)\n",
            "Requirement already satisfied: python-dateutil>=2.7 in /usr/local/lib/python3.10/dist-packages (from matplotlib>=3.4.0->mne) (2.8.2)\n",
            "Requirement already satisfied: platformdirs>=2.5.0 in /usr/local/lib/python3.10/dist-packages (from pooch>=1.5->mne) (3.10.0)\n",
            "Requirement already satisfied: requests>=2.19.0 in /usr/local/lib/python3.10/dist-packages (from pooch>=1.5->mne) (2.31.0)\n",
            "Requirement already satisfied: MarkupSafe>=2.0 in /usr/local/lib/python3.10/dist-packages (from jinja2->mne) (2.1.3)\n",
            "Requirement already satisfied: six>=1.5 in /usr/local/lib/python3.10/dist-packages (from python-dateutil>=2.7->matplotlib>=3.4.0->mne) (1.16.0)\n",
            "Requirement already satisfied: charset-normalizer<4,>=2 in /usr/local/lib/python3.10/dist-packages (from requests>=2.19.0->pooch>=1.5->mne) (3.2.0)\n",
            "Requirement already satisfied: idna<4,>=2.5 in /usr/local/lib/python3.10/dist-packages (from requests>=2.19.0->pooch>=1.5->mne) (3.4)\n",
            "Requirement already satisfied: urllib3<3,>=1.21.1 in /usr/local/lib/python3.10/dist-packages (from requests>=2.19.0->pooch>=1.5->mne) (2.0.4)\n",
            "Requirement already satisfied: certifi>=2017.4.17 in /usr/local/lib/python3.10/dist-packages (from requests>=2.19.0->pooch>=1.5->mne) (2023.7.22)\n",
            "Installing collected packages: mne\n",
            "Successfully installed mne-1.5.1\n"
          ]
        }
      ],
      "source": [
        "!pip install mne"
      ]
    },
    {
      "cell_type": "code",
      "execution_count": 4,
      "metadata": {
        "colab": {
          "base_uri": "https://localhost:8080/"
        },
        "id": "j_aWfFConWpn",
        "outputId": "d4b4060c-361a-4fbc-b959-1b561a9ac2fb"
      },
      "outputs": [
        {
          "data": {
            "text/plain": [
              "torch.Size([3, 22, 15000])"
            ]
          },
          "execution_count": 4,
          "metadata": {},
          "output_type": "execute_result"
        }
      ],
      "source": [
        "input = torch.randn(3,22,15000)\n",
        "input.shape"
      ]
    },
    {
      "cell_type": "code",
      "execution_count": 51,
      "metadata": {
        "colab": {
          "base_uri": "https://localhost:8080/"
        },
        "id": "TJlCTqRynw7l",
        "outputId": "f81c76ee-b01b-42da-8db7-2e6ba0b3f5fb"
      },
      "outputs": [
        {
          "data": {
            "text/plain": [
              "Conv1d(22, 32, kernel_size=(2,), stride=(2,))"
            ]
          },
          "execution_count": 51,
          "metadata": {},
          "output_type": "execute_result"
        }
      ],
      "source": [
        "nn.Conv1d(in_channels=22,out_channels=32,kernel_size=2,stride=2,padding=0)"
      ]
    },
    {
      "cell_type": "code",
      "execution_count": 53,
      "metadata": {
        "id": "ect0zAEooAa1"
      },
      "outputs": [],
      "source": [
        "class Block(nn.Module):\n",
        "  def __init__(self,inplace):\n",
        "    super().__init__()\n",
        "    self.conv1 = nn.Conv1d(in_channels=inplace,out_channels=32,kernel_size=2,stride=2,padding=0)\n",
        "    self.conv2 = nn.Conv1d(in_channels=inplace,out_channels=32,kernel_size=4,stride=2,padding=1)\n",
        "    self.conv3 = nn.Conv1d(in_channels=inplace,out_channels=32,kernel_size=8,stride=2,padding=3)\n",
        "    self.relu = nn.ReLU()\n",
        "  def forward(self,x):\n",
        "    print(x.shape)\n",
        "    x1 = self.conv1(x)\n",
        "    x2 = self.conv2(x)\n",
        "    x3 = self.conv3(x)\n",
        "    print(x1.shape,x2.shape,x3.shape)\n",
        "    x = torch.cat([x1,x2,x3],dim=1)\n",
        "    return x"
      ]
    },
    {
      "cell_type": "code",
      "execution_count": 54,
      "metadata": {
        "id": "CIAD9oXpo5qR"
      },
      "outputs": [],
      "source": [
        "block = Block(22)"
      ]
    },
    {
      "cell_type": "code",
      "execution_count": 55,
      "metadata": {
        "colab": {
          "base_uri": "https://localhost:8080/"
        },
        "id": "GeZJqKxPpCPb",
        "outputId": "536688be-5fe6-46d8-a810-5d64cfa2b36e"
      },
      "outputs": [
        {
          "name": "stdout",
          "output_type": "stream",
          "text": [
            "torch.Size([3, 22, 15000])\n",
            "torch.Size([3, 32, 7500]) torch.Size([3, 32, 7500]) torch.Size([3, 32, 7500])\n"
          ]
        }
      ],
      "source": [
        "out1 = block(input)"
      ]
    },
    {
      "cell_type": "code",
      "execution_count": 56,
      "metadata": {
        "colab": {
          "base_uri": "https://localhost:8080/"
        },
        "id": "jc2Z85l9pGAI",
        "outputId": "6ea26f03-1569-49b2-8378-b501c47bfd92"
      },
      "outputs": [
        {
          "data": {
            "text/plain": [
              "torch.Size([3, 96, 7500])"
            ]
          },
          "execution_count": 56,
          "metadata": {},
          "output_type": "execute_result"
        }
      ],
      "source": [
        "out1.shape"
      ]
    },
    {
      "cell_type": "code",
      "execution_count": 57,
      "metadata": {
        "colab": {
          "base_uri": "https://localhost:8080/"
        },
        "id": "5lzQc-Zrp5ON",
        "outputId": "3dd0dc1b-9c83-40e8-8686-2ac58c6e375f"
      },
      "outputs": [
        {
          "name": "stdout",
          "output_type": "stream",
          "text": [
            "torch.Size([3, 96, 7500])\n",
            "torch.Size([3, 32, 3750]) torch.Size([3, 32, 3750]) torch.Size([3, 32, 3750])\n"
          ]
        },
        {
          "data": {
            "text/plain": [
              "torch.Size([3, 96, 3750])"
            ]
          },
          "execution_count": 57,
          "metadata": {},
          "output_type": "execute_result"
        }
      ],
      "source": [
        "block = Block(96)\n",
        "out2 = block(out1)\n",
        "out2.shape"
      ]
    },
    {
      "cell_type": "code",
      "execution_count": 58,
      "metadata": {
        "colab": {
          "base_uri": "https://localhost:8080/"
        },
        "id": "S0LTRxtKqoju",
        "outputId": "0dd66875-157b-4b14-fe27-f9f9e12e1d28"
      },
      "outputs": [
        {
          "name": "stdout",
          "output_type": "stream",
          "text": [
            "torch.Size([3, 96, 3750])\n",
            "torch.Size([3, 32, 1875]) torch.Size([3, 32, 1875]) torch.Size([3, 32, 1875])\n"
          ]
        },
        {
          "data": {
            "text/plain": [
              "torch.Size([3, 96, 1875])"
            ]
          },
          "execution_count": 58,
          "metadata": {},
          "output_type": "execute_result"
        }
      ],
      "source": [
        "block = Block(96)\n",
        "out3 = block(out2)\n",
        "out3.shape"
      ]
    },
    {
      "cell_type": "code",
      "execution_count": 59,
      "metadata": {
        "colab": {
          "base_uri": "https://localhost:8080/"
        },
        "id": "vvgsZNpwqyir",
        "outputId": "68aa6cb9-ef59-4d48-f45b-ef95e36ed78a"
      },
      "outputs": [
        {
          "name": "stdout",
          "output_type": "stream",
          "text": [
            "torch.Size([3, 1875, 96])\n"
          ]
        }
      ],
      "source": [
        "gru1 = nn.GRU(input_size = 96,hidden_size = 32,batch_first = True)\n",
        "gru2 = nn.GRU(input_size = 32,hidden_size = 32,batch_first = True)\n",
        "\n",
        "x = out3.permute(0,2,1)\n",
        "print(x.shape)"
      ]
    },
    {
      "cell_type": "code",
      "execution_count": 60,
      "metadata": {
        "colab": {
          "base_uri": "https://localhost:8080/"
        },
        "id": "Cy5yhzg0rQYG",
        "outputId": "e69126b1-b3a7-4dce-9a54-5d6dd364fcff"
      },
      "outputs": [
        {
          "name": "stdout",
          "output_type": "stream",
          "text": [
            "torch.Size([3, 1875, 32]) torch.Size([1, 3, 32])\n"
          ]
        }
      ],
      "source": [
        "output,hn = gru(x)\n",
        "print(output.shape,hn.shape)"
      ]
    },
    {
      "cell_type": "code",
      "execution_count": 61,
      "metadata": {
        "id": "uuXdJuBlrmmj"
      },
      "outputs": [],
      "source": [
        "gru_ou1,_ = gru1(x)\n",
        "gru_ou2,_ = gru2(gru_ou1)\n",
        "gru_out = torch.cat([gru_ou1,gru_ou2],dim = 2)"
      ]
    },
    {
      "cell_type": "code",
      "execution_count": 62,
      "metadata": {
        "colab": {
          "base_uri": "https://localhost:8080/"
        },
        "id": "uPUOhXFjuOql",
        "outputId": "e56f6352-622b-4cc7-8dcb-1b6d5158463c"
      },
      "outputs": [
        {
          "data": {
            "text/plain": [
              "torch.Size([3, 1875, 64])"
            ]
          },
          "execution_count": 62,
          "metadata": {},
          "output_type": "execute_result"
        }
      ],
      "source": [
        "gru_out.shape"
      ]
    },
    {
      "cell_type": "code",
      "execution_count": 63,
      "metadata": {
        "colab": {
          "base_uri": "https://localhost:8080/"
        },
        "id": "baHkm6j3uTP8",
        "outputId": "c539087a-839f-4dad-fe79-58dd85ab13bb"
      },
      "outputs": [
        {
          "data": {
            "text/plain": [
              "torch.Size([3, 1875, 32])"
            ]
          },
          "execution_count": 63,
          "metadata": {},
          "output_type": "execute_result"
        }
      ],
      "source": [
        "gru3 = nn.GRU(input_size = 64,hidden_size=32,batch_first=True)\n",
        "gru_out3,_ = gru3(gru_out)\n",
        "gru_out3.shape"
      ]
    },
    {
      "cell_type": "code",
      "execution_count": 64,
      "metadata": {
        "colab": {
          "base_uri": "https://localhost:8080/"
        },
        "id": "Iy0aAMKLvEy0",
        "outputId": "3eccafeb-bcd0-45cd-d1da-e8af56f291e1"
      },
      "outputs": [
        {
          "data": {
            "text/plain": [
              "torch.Size([3, 1875, 96])"
            ]
          },
          "execution_count": 64,
          "metadata": {},
          "output_type": "execute_result"
        }
      ],
      "source": [
        "gru_out = torch.cat([gru_ou1,gru_ou2,gru_out3],dim=2)\n",
        "gru_out.shape"
      ]
    },
    {
      "cell_type": "code",
      "execution_count": 65,
      "metadata": {
        "colab": {
          "base_uri": "https://localhost:8080/"
        },
        "id": "8h4ayiMuu0jJ",
        "outputId": "be2b9c99-3920-4b14-ba9f-b7e646650f3a"
      },
      "outputs": [
        {
          "data": {
            "text/plain": [
              "torch.Size([3, 1875, 32])"
            ]
          },
          "execution_count": 65,
          "metadata": {},
          "output_type": "execute_result"
        }
      ],
      "source": [
        "gru4 = nn.GRU(input_size = 96,hidden_size=32,batch_first=True)\n",
        "gru_out4,_ = gru4(gru_out)\n",
        "gru_out4.shape"
      ]
    },
    {
      "cell_type": "code",
      "execution_count": 66,
      "metadata": {
        "colab": {
          "base_uri": "https://localhost:8080/"
        },
        "id": "Qf12ZwTevhZF",
        "outputId": "6749f116-c37e-4fdd-cdaa-7752da9d4908"
      },
      "outputs": [
        {
          "data": {
            "text/plain": [
              "torch.Size([3, 96, 1])"
            ]
          },
          "execution_count": 66,
          "metadata": {},
          "output_type": "execute_result"
        }
      ],
      "source": [
        "linear = nn.Linear(1875,1)\n",
        "linear_out = linear(gru_out.permute(0,2,1))\n",
        "linear_out.shape"
      ]
    },
    {
      "cell_type": "code",
      "execution_count": null,
      "metadata": {
        "id": "vazTbcMVwBMT"
      },
      "outputs": [],
      "source": []
    },
    {
      "cell_type": "code",
      "execution_count": 67,
      "metadata": {
        "colab": {
          "base_uri": "https://localhost:8080/"
        },
        "id": "YLPtjI6HwGC1",
        "outputId": "49a69b32-3806-4ca8-9d5a-6c2d9b60afdb"
      },
      "outputs": [
        {
          "data": {
            "text/plain": [
              "torch.Size([3, 1, 32])"
            ]
          },
          "execution_count": 67,
          "metadata": {},
          "output_type": "execute_result"
        }
      ],
      "source": [
        "gru4 = nn.GRU(input_size = 96,hidden_size=32,batch_first=True)\n",
        "gru_out4,_ = gru4(linear_out.permute(0,2,1))\n",
        "gru_out4.shape"
      ]
    },
    {
      "cell_type": "code",
      "execution_count": 101,
      "metadata": {
        "colab": {
          "base_uri": "https://localhost:8080/"
        },
        "id": "Dil3-IR27y2K",
        "outputId": "f2e3bf82-e38a-4362-de9d-6619ad87d7c5"
      },
      "outputs": [
        {
          "data": {
            "text/plain": [
              "torch.Size([3, 22, 15000])"
            ]
          },
          "execution_count": 101,
          "metadata": {},
          "output_type": "execute_result"
        }
      ],
      "source": [
        "input=torch.randn(3,22,15000)\n",
        "input.shape"
      ]
    },
    {
      "cell_type": "code",
      "execution_count": 100,
      "metadata": {
        "id": "TX0ujtYL7y_Z"
      },
      "outputs": [],
      "source": [
        "class Block(nn.Module):\n",
        "  def __init__(self,inplace):\n",
        "    super().__init__()\n",
        "    self.conv1=nn.Conv1d(in_channels=inplace,out_channels=32,kernel_size=2,stride=2,padding=0)\n",
        "    self.conv2=nn.Conv1d(in_channels=inplace,out_channels=32,kernel_size=4,stride=2,padding=1)\n",
        "    self.conv3=nn.Conv1d(in_channels=inplace,out_channels=32,kernel_size=8,stride=2,padding=3)\n",
        "    self.relu=nn.ReLU()\n",
        "\n",
        "  def forward(self,x):\n",
        "    x1=self.relu(self.conv1(x))\n",
        "    x2=self.relu(self.conv2(x))\n",
        "    x3=self.relu(self.conv3(x))\n",
        "    x=torch.cat([x1,x3,x3],dim=1)\n",
        "    return x"
      ]
    },
    {
      "cell_type": "code",
      "execution_count": 102,
      "metadata": {
        "id": "h9VGh9-Y5QVu"
      },
      "outputs": [],
      "source": [
        "class ChronoNet(nn.Module):\n",
        "  def __init__(self,channel):\n",
        "    super().__init__()\n",
        "    self.block1=Block(channel)\n",
        "    self.block2=Block(96)\n",
        "    self.block3=Block(96)\n",
        "    self.gru1=nn.GRU(input_size=96,hidden_size=32,batch_first=True)\n",
        "    self.gru2=nn.GRU(input_size=32,hidden_size=32,batch_first=True)\n",
        "    self.gru3=nn.GRU(input_size=64,hidden_size=32,batch_first=True)\n",
        "    self.gru4=nn.GRU(input_size=96,hidden_size=32,batch_first=True)\n",
        "    self.gru_linear=nn.Linear(64,1)\n",
        "    self.flatten=nn.Flatten()\n",
        "    self.fc1=nn.Linear(32,1)\n",
        "    self.relu=nn.ReLU()\n",
        "  def forward(self,x):\n",
        "    x=self.block1(x)\n",
        "    x=self.block2(x)\n",
        "    x=self.block3(x)\n",
        "    x=x.permute(0,2,1)\n",
        "    gru_out1,_=self.gru1(x)\n",
        "    gru_out2,_=self.gru2(gru_out1)\n",
        "    gru_out=torch.cat([gru_out1,gru_out2],dim=2)\n",
        "    gru_out3,_=self.gru3(gru_out)\n",
        "    gru_out=torch.cat([gru_out1,gru_out2,gru_out3],dim=2)\n",
        "    #print('gru_out',gru_out.shape)\n",
        "    linear_out=self.relu(self.gru_linear(gru_out.permute(0,2,1)))\n",
        "    gru_out4,_=self.gru4(linear_out.permute(0,2,1))\n",
        "    x=self.flatten(gru_out4)\n",
        "    x=self.fc1(x)\n",
        "    return x"
      ]
    },
    {
      "cell_type": "code",
      "execution_count": 103,
      "metadata": {
        "id": "zxrJ6IIu9LAK"
      },
      "outputs": [],
      "source": [
        "model = ChronoNet(14)"
      ]
    },
    {
      "cell_type": "code",
      "execution_count": 104,
      "metadata": {
        "colab": {
          "base_uri": "https://localhost:8080/"
        },
        "id": "R2ejWTcJ9W6Z",
        "outputId": "d2b46311-0079-49f9-c99b-e8240c622e19"
      },
      "outputs": [
        {
          "data": {
            "text/plain": [
              "ChronoNet(\n",
              "  (block1): Block(\n",
              "    (conv1): Conv1d(14, 32, kernel_size=(2,), stride=(2,))\n",
              "    (conv2): Conv1d(14, 32, kernel_size=(4,), stride=(2,), padding=(1,))\n",
              "    (conv3): Conv1d(14, 32, kernel_size=(8,), stride=(2,), padding=(3,))\n",
              "    (relu): ReLU()\n",
              "  )\n",
              "  (block2): Block(\n",
              "    (conv1): Conv1d(96, 32, kernel_size=(2,), stride=(2,))\n",
              "    (conv2): Conv1d(96, 32, kernel_size=(4,), stride=(2,), padding=(1,))\n",
              "    (conv3): Conv1d(96, 32, kernel_size=(8,), stride=(2,), padding=(3,))\n",
              "    (relu): ReLU()\n",
              "  )\n",
              "  (block3): Block(\n",
              "    (conv1): Conv1d(96, 32, kernel_size=(2,), stride=(2,))\n",
              "    (conv2): Conv1d(96, 32, kernel_size=(4,), stride=(2,), padding=(1,))\n",
              "    (conv3): Conv1d(96, 32, kernel_size=(8,), stride=(2,), padding=(3,))\n",
              "    (relu): ReLU()\n",
              "  )\n",
              "  (gru1): GRU(96, 32, batch_first=True)\n",
              "  (gru2): GRU(32, 32, batch_first=True)\n",
              "  (gru3): GRU(64, 32, batch_first=True)\n",
              "  (gru4): GRU(96, 32, batch_first=True)\n",
              "  (gru_linear): Linear(in_features=64, out_features=1, bias=True)\n",
              "  (flatten): Flatten(start_dim=1, end_dim=-1)\n",
              "  (fc1): Linear(in_features=32, out_features=1, bias=True)\n",
              "  (relu): ReLU()\n",
              ")"
            ]
          },
          "execution_count": 104,
          "metadata": {},
          "output_type": "execute_result"
        }
      ],
      "source": [
        "model"
      ]
    },
    {
      "cell_type": "code",
      "execution_count": 106,
      "metadata": {
        "colab": {
          "base_uri": "https://localhost:8080/"
        },
        "id": "6fD5Za-I_8Br",
        "outputId": "dc9cc909-afba-421a-8d31-636f43666062"
      },
      "outputs": [
        {
          "data": {
            "text/plain": [
              "torch.Size([3, 14, 512])"
            ]
          },
          "execution_count": 106,
          "metadata": {},
          "output_type": "execute_result"
        }
      ],
      "source": [
        "input=torch.randn(3,14,512)\n",
        "input.shape"
      ]
    },
    {
      "cell_type": "code",
      "execution_count": 107,
      "metadata": {
        "id": "QFuPB3GY9zAH"
      },
      "outputs": [],
      "source": [
        "out = model(input)"
      ]
    },
    {
      "cell_type": "code",
      "execution_count": 108,
      "metadata": {
        "colab": {
          "base_uri": "https://localhost:8080/"
        },
        "id": "0mwRAQdb-TY4",
        "outputId": "70766d6b-d859-4ae1-eb6f-711b4bdac9de"
      },
      "outputs": [
        {
          "data": {
            "text/plain": [
              "torch.Size([3, 1])"
            ]
          },
          "execution_count": 108,
          "metadata": {},
          "output_type": "execute_result"
        }
      ],
      "source": [
        "out.shape"
      ]
    },
    {
      "cell_type": "code",
      "execution_count": null,
      "metadata": {},
      "outputs": [],
      "source": []
    }
  ],
  "metadata": {
    "colab": {
      "provenance": []
    },
    "kernelspec": {
      "display_name": "Python 3",
      "name": "python3"
    },
    "language_info": {
      "name": "python"
    }
  },
  "nbformat": 4,
  "nbformat_minor": 0
}
